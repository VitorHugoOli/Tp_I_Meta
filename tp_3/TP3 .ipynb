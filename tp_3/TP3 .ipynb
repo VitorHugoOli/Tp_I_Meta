{
 "nbformat": 4,
 "nbformat_minor": 0,
 "metadata": {
  "kernelspec": {
   "display_name": "Python 3",
   "language": "python",
   "name": "python3"
  },
  "language_info": {
   "codemirror_mode": {
    "name": "ipython",
    "version": 3
   },
   "file_extension": ".py",
   "mimetype": "text/x-python",
   "name": "python",
   "nbconvert_exporter": "python",
   "pygments_lexer": "ipython3",
   "version": "3.8.8"
  },
  "colab": {
   "name": "TP3.ipynb",
   "provenance": []
  }
 },
 "cells": [
  {
   "cell_type": "markdown",
   "metadata": {
    "id": "LGgHfh3FuNG6"
   },
   "source": [
    "#TP3\n",
    "\n",
    "Base de dados de uma empresa de Telecom que oferta diversos serviços, entre os principais: internet e telefone.\n",
    "\n",
    "Ao analisar o histórico dos clientes dos últimos anos percebe-se que a empresa está com Churn (taxa de cancelamento) de mais de 26% dos clientes. O trabalho consiste em encontrar uma (ou mais regras) que seja o mais acurada possível para determinar os clientes com churn (os clientes que cancelaram). Deve-se utilizar algoritmos genéticos ou programação genética para encontrar tal regra.\n",
    "\n",
    "Link no Kaggle: https://www.kaggle.com/radmirzosimov/telecom-users-dataset"
   ]
  },
  {
   "cell_type": "code",
   "metadata": {
    "colab": {
     "resources": {
      "http://localhost:8080/nbextensions/google.colab/files.js": {
       "data": "Ly8gQ29weXJpZ2h0IDIwMTcgR29vZ2xlIExMQwovLwovLyBMaWNlbnNlZCB1bmRlciB0aGUgQXBhY2hlIExpY2Vuc2UsIFZlcnNpb24gMi4wICh0aGUgIkxpY2Vuc2UiKTsKLy8geW91IG1heSBub3QgdXNlIHRoaXMgZmlsZSBleGNlcHQgaW4gY29tcGxpYW5jZSB3aXRoIHRoZSBMaWNlbnNlLgovLyBZb3UgbWF5IG9idGFpbiBhIGNvcHkgb2YgdGhlIExpY2Vuc2UgYXQKLy8KLy8gICAgICBodHRwOi8vd3d3LmFwYWNoZS5vcmcvbGljZW5zZXMvTElDRU5TRS0yLjAKLy8KLy8gVW5sZXNzIHJlcXVpcmVkIGJ5IGFwcGxpY2FibGUgbGF3IG9yIGFncmVlZCB0byBpbiB3cml0aW5nLCBzb2Z0d2FyZQovLyBkaXN0cmlidXRlZCB1bmRlciB0aGUgTGljZW5zZSBpcyBkaXN0cmlidXRlZCBvbiBhbiAiQVMgSVMiIEJBU0lTLAovLyBXSVRIT1VUIFdBUlJBTlRJRVMgT1IgQ09ORElUSU9OUyBPRiBBTlkgS0lORCwgZWl0aGVyIGV4cHJlc3Mgb3IgaW1wbGllZC4KLy8gU2VlIHRoZSBMaWNlbnNlIGZvciB0aGUgc3BlY2lmaWMgbGFuZ3VhZ2UgZ292ZXJuaW5nIHBlcm1pc3Npb25zIGFuZAovLyBsaW1pdGF0aW9ucyB1bmRlciB0aGUgTGljZW5zZS4KCi8qKgogKiBAZmlsZW92ZXJ2aWV3IEhlbHBlcnMgZm9yIGdvb2dsZS5jb2xhYiBQeXRob24gbW9kdWxlLgogKi8KKGZ1bmN0aW9uKHNjb3BlKSB7CmZ1bmN0aW9uIHNwYW4odGV4dCwgc3R5bGVBdHRyaWJ1dGVzID0ge30pIHsKICBjb25zdCBlbGVtZW50ID0gZG9jdW1lbnQuY3JlYXRlRWxlbWVudCgnc3BhbicpOwogIGVsZW1lbnQudGV4dENvbnRlbnQgPSB0ZXh0OwogIGZvciAoY29uc3Qga2V5IG9mIE9iamVjdC5rZXlzKHN0eWxlQXR0cmlidXRlcykpIHsKICAgIGVsZW1lbnQuc3R5bGVba2V5XSA9IHN0eWxlQXR0cmlidXRlc1trZXldOwogIH0KICByZXR1cm4gZWxlbWVudDsKfQoKLy8gTWF4IG51bWJlciBvZiBieXRlcyB3aGljaCB3aWxsIGJlIHVwbG9hZGVkIGF0IGEgdGltZS4KY29uc3QgTUFYX1BBWUxPQURfU0laRSA9IDEwMCAqIDEwMjQ7CgpmdW5jdGlvbiBfdXBsb2FkRmlsZXMoaW5wdXRJZCwgb3V0cHV0SWQpIHsKICBjb25zdCBzdGVwcyA9IHVwbG9hZEZpbGVzU3RlcChpbnB1dElkLCBvdXRwdXRJZCk7CiAgY29uc3Qgb3V0cHV0RWxlbWVudCA9IGRvY3VtZW50LmdldEVsZW1lbnRCeUlkKG91dHB1dElkKTsKICAvLyBDYWNoZSBzdGVwcyBvbiB0aGUgb3V0cHV0RWxlbWVudCB0byBtYWtlIGl0IGF2YWlsYWJsZSBmb3IgdGhlIG5leHQgY2FsbAogIC8vIHRvIHVwbG9hZEZpbGVzQ29udGludWUgZnJvbSBQeXRob24uCiAgb3V0cHV0RWxlbWVudC5zdGVwcyA9IHN0ZXBzOwoKICByZXR1cm4gX3VwbG9hZEZpbGVzQ29udGludWUob3V0cHV0SWQpOwp9CgovLyBUaGlzIGlzIHJvdWdobHkgYW4gYXN5bmMgZ2VuZXJhdG9yIChub3Qgc3VwcG9ydGVkIGluIHRoZSBicm93c2VyIHlldCksCi8vIHdoZXJlIHRoZXJlIGFyZSBtdWx0aXBsZSBhc3luY2hyb25vdXMgc3RlcHMgYW5kIHRoZSBQeXRob24gc2lkZSBpcyBnb2luZwovLyB0byBwb2xsIGZvciBjb21wbGV0aW9uIG9mIGVhY2ggc3RlcC4KLy8gVGhpcyB1c2VzIGEgUHJvbWlzZSB0byBibG9jayB0aGUgcHl0aG9uIHNpZGUgb24gY29tcGxldGlvbiBvZiBlYWNoIHN0ZXAsCi8vIHRoZW4gcGFzc2VzIHRoZSByZXN1bHQgb2YgdGhlIHByZXZpb3VzIHN0ZXAgYXMgdGhlIGlucHV0IHRvIHRoZSBuZXh0IHN0ZXAuCmZ1bmN0aW9uIF91cGxvYWRGaWxlc0NvbnRpbnVlKG91dHB1dElkKSB7CiAgY29uc3Qgb3V0cHV0RWxlbWVudCA9IGRvY3VtZW50LmdldEVsZW1lbnRCeUlkKG91dHB1dElkKTsKICBjb25zdCBzdGVwcyA9IG91dHB1dEVsZW1lbnQuc3RlcHM7CgogIGNvbnN0IG5leHQgPSBzdGVwcy5uZXh0KG91dHB1dEVsZW1lbnQubGFzdFByb21pc2VWYWx1ZSk7CiAgcmV0dXJuIFByb21pc2UucmVzb2x2ZShuZXh0LnZhbHVlLnByb21pc2UpLnRoZW4oKHZhbHVlKSA9PiB7CiAgICAvLyBDYWNoZSB0aGUgbGFzdCBwcm9taXNlIHZhbHVlIHRvIG1ha2UgaXQgYXZhaWxhYmxlIHRvIHRoZSBuZXh0CiAgICAvLyBzdGVwIG9mIHRoZSBnZW5lcmF0b3IuCiAgICBvdXRwdXRFbGVtZW50Lmxhc3RQcm9taXNlVmFsdWUgPSB2YWx1ZTsKICAgIHJldHVybiBuZXh0LnZhbHVlLnJlc3BvbnNlOwogIH0pOwp9CgovKioKICogR2VuZXJhdG9yIGZ1bmN0aW9uIHdoaWNoIGlzIGNhbGxlZCBiZXR3ZWVuIGVhY2ggYXN5bmMgc3RlcCBvZiB0aGUgdXBsb2FkCiAqIHByb2Nlc3MuCiAqIEBwYXJhbSB7c3RyaW5nfSBpbnB1dElkIEVsZW1lbnQgSUQgb2YgdGhlIGlucHV0IGZpbGUgcGlja2VyIGVsZW1lbnQuCiAqIEBwYXJhbSB7c3RyaW5nfSBvdXRwdXRJZCBFbGVtZW50IElEIG9mIHRoZSBvdXRwdXQgZGlzcGxheS4KICogQHJldHVybiB7IUl0ZXJhYmxlPCFPYmplY3Q+fSBJdGVyYWJsZSBvZiBuZXh0IHN0ZXBzLgogKi8KZnVuY3Rpb24qIHVwbG9hZEZpbGVzU3RlcChpbnB1dElkLCBvdXRwdXRJZCkgewogIGNvbnN0IGlucHV0RWxlbWVudCA9IGRvY3VtZW50LmdldEVsZW1lbnRCeUlkKGlucHV0SWQpOwogIGlucHV0RWxlbWVudC5kaXNhYmxlZCA9IGZhbHNlOwoKICBjb25zdCBvdXRwdXRFbGVtZW50ID0gZG9jdW1lbnQuZ2V0RWxlbWVudEJ5SWQob3V0cHV0SWQpOwogIG91dHB1dEVsZW1lbnQuaW5uZXJIVE1MID0gJyc7CgogIGNvbnN0IHBpY2tlZFByb21pc2UgPSBuZXcgUHJvbWlzZSgocmVzb2x2ZSkgPT4gewogICAgaW5wdXRFbGVtZW50LmFkZEV2ZW50TGlzdGVuZXIoJ2NoYW5nZScsIChlKSA9PiB7CiAgICAgIHJlc29sdmUoZS50YXJnZXQuZmlsZXMpOwogICAgfSk7CiAgfSk7CgogIGNvbnN0IGNhbmNlbCA9IGRvY3VtZW50LmNyZWF0ZUVsZW1lbnQoJ2J1dHRvbicpOwogIGlucHV0RWxlbWVudC5wYXJlbnRFbGVtZW50LmFwcGVuZENoaWxkKGNhbmNlbCk7CiAgY2FuY2VsLnRleHRDb250ZW50ID0gJ0NhbmNlbCB1cGxvYWQnOwogIGNvbnN0IGNhbmNlbFByb21pc2UgPSBuZXcgUHJvbWlzZSgocmVzb2x2ZSkgPT4gewogICAgY2FuY2VsLm9uY2xpY2sgPSAoKSA9PiB7CiAgICAgIHJlc29sdmUobnVsbCk7CiAgICB9OwogIH0pOwoKICAvLyBXYWl0IGZvciB0aGUgdXNlciB0byBwaWNrIHRoZSBmaWxlcy4KICBjb25zdCBmaWxlcyA9IHlpZWxkIHsKICAgIHByb21pc2U6IFByb21pc2UucmFjZShbcGlja2VkUHJvbWlzZSwgY2FuY2VsUHJvbWlzZV0pLAogICAgcmVzcG9uc2U6IHsKICAgICAgYWN0aW9uOiAnc3RhcnRpbmcnLAogICAgfQogIH07CgogIGNhbmNlbC5yZW1vdmUoKTsKCiAgLy8gRGlzYWJsZSB0aGUgaW5wdXQgZWxlbWVudCBzaW5jZSBmdXJ0aGVyIHBpY2tzIGFyZSBub3QgYWxsb3dlZC4KICBpbnB1dEVsZW1lbnQuZGlzYWJsZWQgPSB0cnVlOwoKICBpZiAoIWZpbGVzKSB7CiAgICByZXR1cm4gewogICAgICByZXNwb25zZTogewogICAgICAgIGFjdGlvbjogJ2NvbXBsZXRlJywKICAgICAgfQogICAgfTsKICB9CgogIGZvciAoY29uc3QgZmlsZSBvZiBmaWxlcykgewogICAgY29uc3QgbGkgPSBkb2N1bWVudC5jcmVhdGVFbGVtZW50KCdsaScpOwogICAgbGkuYXBwZW5kKHNwYW4oZmlsZS5uYW1lLCB7Zm9udFdlaWdodDogJ2JvbGQnfSkpOwogICAgbGkuYXBwZW5kKHNwYW4oCiAgICAgICAgYCgke2ZpbGUudHlwZSB8fCAnbi9hJ30pIC0gJHtmaWxlLnNpemV9IGJ5dGVzLCBgICsKICAgICAgICBgbGFzdCBtb2RpZmllZDogJHsKICAgICAgICAgICAgZmlsZS5sYXN0TW9kaWZpZWREYXRlID8gZmlsZS5sYXN0TW9kaWZpZWREYXRlLnRvTG9jYWxlRGF0ZVN0cmluZygpIDoKICAgICAgICAgICAgICAgICAgICAgICAgICAgICAgICAgICAgJ24vYSd9IC0gYCkpOwogICAgY29uc3QgcGVyY2VudCA9IHNwYW4oJzAlIGRvbmUnKTsKICAgIGxpLmFwcGVuZENoaWxkKHBlcmNlbnQpOwoKICAgIG91dHB1dEVsZW1lbnQuYXBwZW5kQ2hpbGQobGkpOwoKICAgIGNvbnN0IGZpbGVEYXRhUHJvbWlzZSA9IG5ldyBQcm9taXNlKChyZXNvbHZlKSA9PiB7CiAgICAgIGNvbnN0IHJlYWRlciA9IG5ldyBGaWxlUmVhZGVyKCk7CiAgICAgIHJlYWRlci5vbmxvYWQgPSAoZSkgPT4gewogICAgICAgIHJlc29sdmUoZS50YXJnZXQucmVzdWx0KTsKICAgICAgfTsKICAgICAgcmVhZGVyLnJlYWRBc0FycmF5QnVmZmVyKGZpbGUpOwogICAgfSk7CiAgICAvLyBXYWl0IGZvciB0aGUgZGF0YSB0byBiZSByZWFkeS4KICAgIGxldCBmaWxlRGF0YSA9IHlpZWxkIHsKICAgICAgcHJvbWlzZTogZmlsZURhdGFQcm9taXNlLAogICAgICByZXNwb25zZTogewogICAgICAgIGFjdGlvbjogJ2NvbnRpbnVlJywKICAgICAgfQogICAgfTsKCiAgICAvLyBVc2UgYSBjaHVua2VkIHNlbmRpbmcgdG8gYXZvaWQgbWVzc2FnZSBzaXplIGxpbWl0cy4gU2VlIGIvNjIxMTU2NjAuCiAgICBsZXQgcG9zaXRpb24gPSAwOwogICAgZG8gewogICAgICBjb25zdCBsZW5ndGggPSBNYXRoLm1pbihmaWxlRGF0YS5ieXRlTGVuZ3RoIC0gcG9zaXRpb24sIE1BWF9QQVlMT0FEX1NJWkUpOwogICAgICBjb25zdCBjaHVuayA9IG5ldyBVaW50OEFycmF5KGZpbGVEYXRhLCBwb3NpdGlvbiwgbGVuZ3RoKTsKICAgICAgcG9zaXRpb24gKz0gbGVuZ3RoOwoKICAgICAgY29uc3QgYmFzZTY0ID0gYnRvYShTdHJpbmcuZnJvbUNoYXJDb2RlLmFwcGx5KG51bGwsIGNodW5rKSk7CiAgICAgIHlpZWxkIHsKICAgICAgICByZXNwb25zZTogewogICAgICAgICAgYWN0aW9uOiAnYXBwZW5kJywKICAgICAgICAgIGZpbGU6IGZpbGUubmFtZSwKICAgICAgICAgIGRhdGE6IGJhc2U2NCwKICAgICAgICB9LAogICAgICB9OwoKICAgICAgbGV0IHBlcmNlbnREb25lID0gZmlsZURhdGEuYnl0ZUxlbmd0aCA9PT0gMCA/CiAgICAgICAgICAxMDAgOgogICAgICAgICAgTWF0aC5yb3VuZCgocG9zaXRpb24gLyBmaWxlRGF0YS5ieXRlTGVuZ3RoKSAqIDEwMCk7CiAgICAgIHBlcmNlbnQudGV4dENvbnRlbnQgPSBgJHtwZXJjZW50RG9uZX0lIGRvbmVgOwoKICAgIH0gd2hpbGUgKHBvc2l0aW9uIDwgZmlsZURhdGEuYnl0ZUxlbmd0aCk7CiAgfQoKICAvLyBBbGwgZG9uZS4KICB5aWVsZCB7CiAgICByZXNwb25zZTogewogICAgICBhY3Rpb246ICdjb21wbGV0ZScsCiAgICB9CiAgfTsKfQoKc2NvcGUuZ29vZ2xlID0gc2NvcGUuZ29vZ2xlIHx8IHt9OwpzY29wZS5nb29nbGUuY29sYWIgPSBzY29wZS5nb29nbGUuY29sYWIgfHwge307CnNjb3BlLmdvb2dsZS5jb2xhYi5fZmlsZXMgPSB7CiAgX3VwbG9hZEZpbGVzLAogIF91cGxvYWRGaWxlc0NvbnRpbnVlLAp9Owp9KShzZWxmKTsK",
       "ok": true,
       "headers": [
        [
         "content-type",
         "application/javascript"
        ]
       ],
       "status": 200,
       "status_text": ""
      }
     },
     "base_uri": "https://localhost:8080/",
     "height": 72
    },
    "id": "D_7IACEl43TJ",
    "outputId": "895f34e1-b5a3-4d2f-a8f4-01fb9c063f37"
   },
   "source": [
    "# Passo 0: Ler o arquivo csv\n",
    "# from google.colab import files\n",
    "# uploaded = files.upload()\n",
    "# file_name = next(iter(uploaded))\n"
   ],
   "execution_count": 3,
   "outputs": []
  },
  {
   "cell_type": "code",
   "metadata": {
    "colab": {
     "base_uri": "https://localhost:8080/",
     "height": 626
    },
    "id": "zaQTCUd7uNG-",
    "outputId": "30bebfb8-ab80-4040-ed70-07a4c63cb02f"
   },
   "source": [
    "# Passo 1: Importar a base de dados\n",
    "\n",
    "import pandas as pd\n",
    "# gfile_name = io.StringIO(uploaded[file_name].decode('ISO 8859-1').strip())\n",
    "from IPython.core.display import display\n",
    "\n",
    "tabela = pd.read_csv(\"telecom_users.csv\")\n",
    "display(tabela)"
   ],
   "execution_count": 4,
   "outputs": [
    {
     "data": {
      "text/plain": "      Unnamed: 0   IDCliente     Genero  Aposentado Casado Dependentes  \\\n0           1869  7010-BRBUU  Masculino           0    Sim         Sim   \n1           4528  9688-YGXVR   Feminino           0    Nao         Nao   \n2           6344  9286-DOJGF   Feminino           1    Sim         Nao   \n3           6739  6994-KERXL  Masculino           0    Nao         Nao   \n4            432  2181-UAESM  Masculino           0    Nao         Nao   \n...          ...         ...        ...         ...    ...         ...   \n5981        3772  0684-AOSIH  Masculino           0    Sim         Nao   \n5982        5191  5982-PSMKW   Feminino           0    Sim         Sim   \n5983        5226  8044-BGWPI  Masculino           0    Sim         Sim   \n5984        5390  7450-NWRTR  Masculino           1    Nao         Nao   \n5985         860  4795-UXVCJ  Masculino           0    Nao         Nao   \n\n      MesesComoCliente ServicoTelefone MultiplasLinhas ServicoInternet  ...  \\\n0                   72             Sim             Sim             Nao  ...   \n1                   44             Sim             Nao           Fibra  ...   \n2                   38             Sim             Sim           Fibra  ...   \n3                    4             Sim             Nao             DSL  ...   \n4                    2             Sim             Nao             DSL  ...   \n...                ...             ...             ...             ...  ...   \n5981                 1             Sim             Nao           Fibra  ...   \n5982                23             Sim             Sim             DSL  ...   \n5983                12             Sim             Nao             Nao  ...   \n5984                12             Sim             Sim           Fibra  ...   \n5985                26             Sim             Nao             Nao  ...   \n\n     ServicoSuporteTecnico ServicoStreamingTV ServicoFilmes TipoContrato  \\\n0              SemInternet        SemInternet   SemInternet       2 anos   \n1                      Nao                Sim           Nao       Mensal   \n2                      Nao                Nao           Nao       Mensal   \n3                      Nao                Nao           Sim       Mensal   \n4                      Nao                Nao           Nao       Mensal   \n...                    ...                ...           ...          ...   \n5981                   Nao                Sim           Sim       Mensal   \n5982                   Sim                Sim           Sim       2 anos   \n5983           SemInternet        SemInternet   SemInternet       Mensal   \n5984                   Nao                Sim           Sim       Mensal   \n5985           SemInternet        SemInternet   SemInternet        Anual   \n\n     FaturaDigital    FormaPagamento ValorMensal TotalGasto Churn  Codigo  \n0              Nao     CartaoCredito       24.10    1734.65   Nao     NaN  \n1              Sim     CartaoCredito       88.15     3973.2   Nao     NaN  \n2              Sim  DebitoAutomatico       74.95    2869.85   Sim     NaN  \n3              Sim  BoletoEletronico       55.90      238.5   Nao     NaN  \n4              Nao  BoletoEletronico       53.45      119.5   Nao     NaN  \n...            ...               ...         ...        ...   ...     ...  \n5981           Sim  BoletoEletronico       95.00         95   Sim     NaN  \n5982           Sim     CartaoCredito       91.10     2198.3   Nao     NaN  \n5983           Sim  BoletoEletronico       21.15     306.05   Nao     NaN  \n5984           Sim  BoletoEletronico       99.45    1200.15   Sim     NaN  \n5985           Nao     CartaoCredito       19.80      457.3   Nao     NaN  \n\n[5986 rows x 23 columns]",
      "text/html": "<div>\n<style scoped>\n    .dataframe tbody tr th:only-of-type {\n        vertical-align: middle;\n    }\n\n    .dataframe tbody tr th {\n        vertical-align: top;\n    }\n\n    .dataframe thead th {\n        text-align: right;\n    }\n</style>\n<table border=\"1\" class=\"dataframe\">\n  <thead>\n    <tr style=\"text-align: right;\">\n      <th></th>\n      <th>Unnamed: 0</th>\n      <th>IDCliente</th>\n      <th>Genero</th>\n      <th>Aposentado</th>\n      <th>Casado</th>\n      <th>Dependentes</th>\n      <th>MesesComoCliente</th>\n      <th>ServicoTelefone</th>\n      <th>MultiplasLinhas</th>\n      <th>ServicoInternet</th>\n      <th>...</th>\n      <th>ServicoSuporteTecnico</th>\n      <th>ServicoStreamingTV</th>\n      <th>ServicoFilmes</th>\n      <th>TipoContrato</th>\n      <th>FaturaDigital</th>\n      <th>FormaPagamento</th>\n      <th>ValorMensal</th>\n      <th>TotalGasto</th>\n      <th>Churn</th>\n      <th>Codigo</th>\n    </tr>\n  </thead>\n  <tbody>\n    <tr>\n      <th>0</th>\n      <td>1869</td>\n      <td>7010-BRBUU</td>\n      <td>Masculino</td>\n      <td>0</td>\n      <td>Sim</td>\n      <td>Sim</td>\n      <td>72</td>\n      <td>Sim</td>\n      <td>Sim</td>\n      <td>Nao</td>\n      <td>...</td>\n      <td>SemInternet</td>\n      <td>SemInternet</td>\n      <td>SemInternet</td>\n      <td>2 anos</td>\n      <td>Nao</td>\n      <td>CartaoCredito</td>\n      <td>24.10</td>\n      <td>1734.65</td>\n      <td>Nao</td>\n      <td>NaN</td>\n    </tr>\n    <tr>\n      <th>1</th>\n      <td>4528</td>\n      <td>9688-YGXVR</td>\n      <td>Feminino</td>\n      <td>0</td>\n      <td>Nao</td>\n      <td>Nao</td>\n      <td>44</td>\n      <td>Sim</td>\n      <td>Nao</td>\n      <td>Fibra</td>\n      <td>...</td>\n      <td>Nao</td>\n      <td>Sim</td>\n      <td>Nao</td>\n      <td>Mensal</td>\n      <td>Sim</td>\n      <td>CartaoCredito</td>\n      <td>88.15</td>\n      <td>3973.2</td>\n      <td>Nao</td>\n      <td>NaN</td>\n    </tr>\n    <tr>\n      <th>2</th>\n      <td>6344</td>\n      <td>9286-DOJGF</td>\n      <td>Feminino</td>\n      <td>1</td>\n      <td>Sim</td>\n      <td>Nao</td>\n      <td>38</td>\n      <td>Sim</td>\n      <td>Sim</td>\n      <td>Fibra</td>\n      <td>...</td>\n      <td>Nao</td>\n      <td>Nao</td>\n      <td>Nao</td>\n      <td>Mensal</td>\n      <td>Sim</td>\n      <td>DebitoAutomatico</td>\n      <td>74.95</td>\n      <td>2869.85</td>\n      <td>Sim</td>\n      <td>NaN</td>\n    </tr>\n    <tr>\n      <th>3</th>\n      <td>6739</td>\n      <td>6994-KERXL</td>\n      <td>Masculino</td>\n      <td>0</td>\n      <td>Nao</td>\n      <td>Nao</td>\n      <td>4</td>\n      <td>Sim</td>\n      <td>Nao</td>\n      <td>DSL</td>\n      <td>...</td>\n      <td>Nao</td>\n      <td>Nao</td>\n      <td>Sim</td>\n      <td>Mensal</td>\n      <td>Sim</td>\n      <td>BoletoEletronico</td>\n      <td>55.90</td>\n      <td>238.5</td>\n      <td>Nao</td>\n      <td>NaN</td>\n    </tr>\n    <tr>\n      <th>4</th>\n      <td>432</td>\n      <td>2181-UAESM</td>\n      <td>Masculino</td>\n      <td>0</td>\n      <td>Nao</td>\n      <td>Nao</td>\n      <td>2</td>\n      <td>Sim</td>\n      <td>Nao</td>\n      <td>DSL</td>\n      <td>...</td>\n      <td>Nao</td>\n      <td>Nao</td>\n      <td>Nao</td>\n      <td>Mensal</td>\n      <td>Nao</td>\n      <td>BoletoEletronico</td>\n      <td>53.45</td>\n      <td>119.5</td>\n      <td>Nao</td>\n      <td>NaN</td>\n    </tr>\n    <tr>\n      <th>...</th>\n      <td>...</td>\n      <td>...</td>\n      <td>...</td>\n      <td>...</td>\n      <td>...</td>\n      <td>...</td>\n      <td>...</td>\n      <td>...</td>\n      <td>...</td>\n      <td>...</td>\n      <td>...</td>\n      <td>...</td>\n      <td>...</td>\n      <td>...</td>\n      <td>...</td>\n      <td>...</td>\n      <td>...</td>\n      <td>...</td>\n      <td>...</td>\n      <td>...</td>\n      <td>...</td>\n    </tr>\n    <tr>\n      <th>5981</th>\n      <td>3772</td>\n      <td>0684-AOSIH</td>\n      <td>Masculino</td>\n      <td>0</td>\n      <td>Sim</td>\n      <td>Nao</td>\n      <td>1</td>\n      <td>Sim</td>\n      <td>Nao</td>\n      <td>Fibra</td>\n      <td>...</td>\n      <td>Nao</td>\n      <td>Sim</td>\n      <td>Sim</td>\n      <td>Mensal</td>\n      <td>Sim</td>\n      <td>BoletoEletronico</td>\n      <td>95.00</td>\n      <td>95</td>\n      <td>Sim</td>\n      <td>NaN</td>\n    </tr>\n    <tr>\n      <th>5982</th>\n      <td>5191</td>\n      <td>5982-PSMKW</td>\n      <td>Feminino</td>\n      <td>0</td>\n      <td>Sim</td>\n      <td>Sim</td>\n      <td>23</td>\n      <td>Sim</td>\n      <td>Sim</td>\n      <td>DSL</td>\n      <td>...</td>\n      <td>Sim</td>\n      <td>Sim</td>\n      <td>Sim</td>\n      <td>2 anos</td>\n      <td>Sim</td>\n      <td>CartaoCredito</td>\n      <td>91.10</td>\n      <td>2198.3</td>\n      <td>Nao</td>\n      <td>NaN</td>\n    </tr>\n    <tr>\n      <th>5983</th>\n      <td>5226</td>\n      <td>8044-BGWPI</td>\n      <td>Masculino</td>\n      <td>0</td>\n      <td>Sim</td>\n      <td>Sim</td>\n      <td>12</td>\n      <td>Sim</td>\n      <td>Nao</td>\n      <td>Nao</td>\n      <td>...</td>\n      <td>SemInternet</td>\n      <td>SemInternet</td>\n      <td>SemInternet</td>\n      <td>Mensal</td>\n      <td>Sim</td>\n      <td>BoletoEletronico</td>\n      <td>21.15</td>\n      <td>306.05</td>\n      <td>Nao</td>\n      <td>NaN</td>\n    </tr>\n    <tr>\n      <th>5984</th>\n      <td>5390</td>\n      <td>7450-NWRTR</td>\n      <td>Masculino</td>\n      <td>1</td>\n      <td>Nao</td>\n      <td>Nao</td>\n      <td>12</td>\n      <td>Sim</td>\n      <td>Sim</td>\n      <td>Fibra</td>\n      <td>...</td>\n      <td>Nao</td>\n      <td>Sim</td>\n      <td>Sim</td>\n      <td>Mensal</td>\n      <td>Sim</td>\n      <td>BoletoEletronico</td>\n      <td>99.45</td>\n      <td>1200.15</td>\n      <td>Sim</td>\n      <td>NaN</td>\n    </tr>\n    <tr>\n      <th>5985</th>\n      <td>860</td>\n      <td>4795-UXVCJ</td>\n      <td>Masculino</td>\n      <td>0</td>\n      <td>Nao</td>\n      <td>Nao</td>\n      <td>26</td>\n      <td>Sim</td>\n      <td>Nao</td>\n      <td>Nao</td>\n      <td>...</td>\n      <td>SemInternet</td>\n      <td>SemInternet</td>\n      <td>SemInternet</td>\n      <td>Anual</td>\n      <td>Nao</td>\n      <td>CartaoCredito</td>\n      <td>19.80</td>\n      <td>457.3</td>\n      <td>Nao</td>\n      <td>NaN</td>\n    </tr>\n  </tbody>\n</table>\n<p>5986 rows × 23 columns</p>\n</div>"
     },
     "metadata": {},
     "output_type": "display_data"
    }
   ]
  },
  {
   "cell_type": "code",
   "metadata": {
    "colab": {
     "base_uri": "https://localhost:8080/",
     "height": 609
    },
    "id": "4spOcLz-uNHA",
    "outputId": "4adb39cb-c416-405f-82f9-89327c379366"
   },
   "source": [
    "# Passo 2: Visualizar a base de dados\n",
    "# Entender quais informações estão disponíveis\n",
    "# Retirada da primeira coluna\n",
    "tabela = tabela.drop(\"Unnamed: 0\", axis=1)  # 0 é linha e 1 é coluna\n",
    "display(tabela)"
   ],
   "execution_count": 5,
   "outputs": [
    {
     "data": {
      "text/plain": "       IDCliente     Genero  Aposentado Casado Dependentes  MesesComoCliente  \\\n0     7010-BRBUU  Masculino           0    Sim         Sim                72   \n1     9688-YGXVR   Feminino           0    Nao         Nao                44   \n2     9286-DOJGF   Feminino           1    Sim         Nao                38   \n3     6994-KERXL  Masculino           0    Nao         Nao                 4   \n4     2181-UAESM  Masculino           0    Nao         Nao                 2   \n...          ...        ...         ...    ...         ...               ...   \n5981  0684-AOSIH  Masculino           0    Sim         Nao                 1   \n5982  5982-PSMKW   Feminino           0    Sim         Sim                23   \n5983  8044-BGWPI  Masculino           0    Sim         Sim                12   \n5984  7450-NWRTR  Masculino           1    Nao         Nao                12   \n5985  4795-UXVCJ  Masculino           0    Nao         Nao                26   \n\n     ServicoTelefone MultiplasLinhas ServicoInternet ServicoSegurancaOnline  \\\n0                Sim             Sim             Nao            SemInternet   \n1                Sim             Nao           Fibra                    Nao   \n2                Sim             Sim           Fibra                    Nao   \n3                Sim             Nao             DSL                    Nao   \n4                Sim             Nao             DSL                    Sim   \n...              ...             ...             ...                    ...   \n5981             Sim             Nao           Fibra                    Sim   \n5982             Sim             Sim             DSL                    Sim   \n5983             Sim             Nao             Nao            SemInternet   \n5984             Sim             Sim           Fibra                    Nao   \n5985             Sim             Nao             Nao            SemInternet   \n\n      ... ServicoSuporteTecnico ServicoStreamingTV ServicoFilmes TipoContrato  \\\n0     ...           SemInternet        SemInternet   SemInternet       2 anos   \n1     ...                   Nao                Sim           Nao       Mensal   \n2     ...                   Nao                Nao           Nao       Mensal   \n3     ...                   Nao                Nao           Sim       Mensal   \n4     ...                   Nao                Nao           Nao       Mensal   \n...   ...                   ...                ...           ...          ...   \n5981  ...                   Nao                Sim           Sim       Mensal   \n5982  ...                   Sim                Sim           Sim       2 anos   \n5983  ...           SemInternet        SemInternet   SemInternet       Mensal   \n5984  ...                   Nao                Sim           Sim       Mensal   \n5985  ...           SemInternet        SemInternet   SemInternet        Anual   \n\n     FaturaDigital    FormaPagamento ValorMensal TotalGasto  Churn Codigo  \n0              Nao     CartaoCredito       24.10    1734.65    Nao    NaN  \n1              Sim     CartaoCredito       88.15     3973.2    Nao    NaN  \n2              Sim  DebitoAutomatico       74.95    2869.85    Sim    NaN  \n3              Sim  BoletoEletronico       55.90      238.5    Nao    NaN  \n4              Nao  BoletoEletronico       53.45      119.5    Nao    NaN  \n...            ...               ...         ...        ...    ...    ...  \n5981           Sim  BoletoEletronico       95.00         95    Sim    NaN  \n5982           Sim     CartaoCredito       91.10     2198.3    Nao    NaN  \n5983           Sim  BoletoEletronico       21.15     306.05    Nao    NaN  \n5984           Sim  BoletoEletronico       99.45    1200.15    Sim    NaN  \n5985           Nao     CartaoCredito       19.80      457.3    Nao    NaN  \n\n[5986 rows x 22 columns]",
      "text/html": "<div>\n<style scoped>\n    .dataframe tbody tr th:only-of-type {\n        vertical-align: middle;\n    }\n\n    .dataframe tbody tr th {\n        vertical-align: top;\n    }\n\n    .dataframe thead th {\n        text-align: right;\n    }\n</style>\n<table border=\"1\" class=\"dataframe\">\n  <thead>\n    <tr style=\"text-align: right;\">\n      <th></th>\n      <th>IDCliente</th>\n      <th>Genero</th>\n      <th>Aposentado</th>\n      <th>Casado</th>\n      <th>Dependentes</th>\n      <th>MesesComoCliente</th>\n      <th>ServicoTelefone</th>\n      <th>MultiplasLinhas</th>\n      <th>ServicoInternet</th>\n      <th>ServicoSegurancaOnline</th>\n      <th>...</th>\n      <th>ServicoSuporteTecnico</th>\n      <th>ServicoStreamingTV</th>\n      <th>ServicoFilmes</th>\n      <th>TipoContrato</th>\n      <th>FaturaDigital</th>\n      <th>FormaPagamento</th>\n      <th>ValorMensal</th>\n      <th>TotalGasto</th>\n      <th>Churn</th>\n      <th>Codigo</th>\n    </tr>\n  </thead>\n  <tbody>\n    <tr>\n      <th>0</th>\n      <td>7010-BRBUU</td>\n      <td>Masculino</td>\n      <td>0</td>\n      <td>Sim</td>\n      <td>Sim</td>\n      <td>72</td>\n      <td>Sim</td>\n      <td>Sim</td>\n      <td>Nao</td>\n      <td>SemInternet</td>\n      <td>...</td>\n      <td>SemInternet</td>\n      <td>SemInternet</td>\n      <td>SemInternet</td>\n      <td>2 anos</td>\n      <td>Nao</td>\n      <td>CartaoCredito</td>\n      <td>24.10</td>\n      <td>1734.65</td>\n      <td>Nao</td>\n      <td>NaN</td>\n    </tr>\n    <tr>\n      <th>1</th>\n      <td>9688-YGXVR</td>\n      <td>Feminino</td>\n      <td>0</td>\n      <td>Nao</td>\n      <td>Nao</td>\n      <td>44</td>\n      <td>Sim</td>\n      <td>Nao</td>\n      <td>Fibra</td>\n      <td>Nao</td>\n      <td>...</td>\n      <td>Nao</td>\n      <td>Sim</td>\n      <td>Nao</td>\n      <td>Mensal</td>\n      <td>Sim</td>\n      <td>CartaoCredito</td>\n      <td>88.15</td>\n      <td>3973.2</td>\n      <td>Nao</td>\n      <td>NaN</td>\n    </tr>\n    <tr>\n      <th>2</th>\n      <td>9286-DOJGF</td>\n      <td>Feminino</td>\n      <td>1</td>\n      <td>Sim</td>\n      <td>Nao</td>\n      <td>38</td>\n      <td>Sim</td>\n      <td>Sim</td>\n      <td>Fibra</td>\n      <td>Nao</td>\n      <td>...</td>\n      <td>Nao</td>\n      <td>Nao</td>\n      <td>Nao</td>\n      <td>Mensal</td>\n      <td>Sim</td>\n      <td>DebitoAutomatico</td>\n      <td>74.95</td>\n      <td>2869.85</td>\n      <td>Sim</td>\n      <td>NaN</td>\n    </tr>\n    <tr>\n      <th>3</th>\n      <td>6994-KERXL</td>\n      <td>Masculino</td>\n      <td>0</td>\n      <td>Nao</td>\n      <td>Nao</td>\n      <td>4</td>\n      <td>Sim</td>\n      <td>Nao</td>\n      <td>DSL</td>\n      <td>Nao</td>\n      <td>...</td>\n      <td>Nao</td>\n      <td>Nao</td>\n      <td>Sim</td>\n      <td>Mensal</td>\n      <td>Sim</td>\n      <td>BoletoEletronico</td>\n      <td>55.90</td>\n      <td>238.5</td>\n      <td>Nao</td>\n      <td>NaN</td>\n    </tr>\n    <tr>\n      <th>4</th>\n      <td>2181-UAESM</td>\n      <td>Masculino</td>\n      <td>0</td>\n      <td>Nao</td>\n      <td>Nao</td>\n      <td>2</td>\n      <td>Sim</td>\n      <td>Nao</td>\n      <td>DSL</td>\n      <td>Sim</td>\n      <td>...</td>\n      <td>Nao</td>\n      <td>Nao</td>\n      <td>Nao</td>\n      <td>Mensal</td>\n      <td>Nao</td>\n      <td>BoletoEletronico</td>\n      <td>53.45</td>\n      <td>119.5</td>\n      <td>Nao</td>\n      <td>NaN</td>\n    </tr>\n    <tr>\n      <th>...</th>\n      <td>...</td>\n      <td>...</td>\n      <td>...</td>\n      <td>...</td>\n      <td>...</td>\n      <td>...</td>\n      <td>...</td>\n      <td>...</td>\n      <td>...</td>\n      <td>...</td>\n      <td>...</td>\n      <td>...</td>\n      <td>...</td>\n      <td>...</td>\n      <td>...</td>\n      <td>...</td>\n      <td>...</td>\n      <td>...</td>\n      <td>...</td>\n      <td>...</td>\n      <td>...</td>\n    </tr>\n    <tr>\n      <th>5981</th>\n      <td>0684-AOSIH</td>\n      <td>Masculino</td>\n      <td>0</td>\n      <td>Sim</td>\n      <td>Nao</td>\n      <td>1</td>\n      <td>Sim</td>\n      <td>Nao</td>\n      <td>Fibra</td>\n      <td>Sim</td>\n      <td>...</td>\n      <td>Nao</td>\n      <td>Sim</td>\n      <td>Sim</td>\n      <td>Mensal</td>\n      <td>Sim</td>\n      <td>BoletoEletronico</td>\n      <td>95.00</td>\n      <td>95</td>\n      <td>Sim</td>\n      <td>NaN</td>\n    </tr>\n    <tr>\n      <th>5982</th>\n      <td>5982-PSMKW</td>\n      <td>Feminino</td>\n      <td>0</td>\n      <td>Sim</td>\n      <td>Sim</td>\n      <td>23</td>\n      <td>Sim</td>\n      <td>Sim</td>\n      <td>DSL</td>\n      <td>Sim</td>\n      <td>...</td>\n      <td>Sim</td>\n      <td>Sim</td>\n      <td>Sim</td>\n      <td>2 anos</td>\n      <td>Sim</td>\n      <td>CartaoCredito</td>\n      <td>91.10</td>\n      <td>2198.3</td>\n      <td>Nao</td>\n      <td>NaN</td>\n    </tr>\n    <tr>\n      <th>5983</th>\n      <td>8044-BGWPI</td>\n      <td>Masculino</td>\n      <td>0</td>\n      <td>Sim</td>\n      <td>Sim</td>\n      <td>12</td>\n      <td>Sim</td>\n      <td>Nao</td>\n      <td>Nao</td>\n      <td>SemInternet</td>\n      <td>...</td>\n      <td>SemInternet</td>\n      <td>SemInternet</td>\n      <td>SemInternet</td>\n      <td>Mensal</td>\n      <td>Sim</td>\n      <td>BoletoEletronico</td>\n      <td>21.15</td>\n      <td>306.05</td>\n      <td>Nao</td>\n      <td>NaN</td>\n    </tr>\n    <tr>\n      <th>5984</th>\n      <td>7450-NWRTR</td>\n      <td>Masculino</td>\n      <td>1</td>\n      <td>Nao</td>\n      <td>Nao</td>\n      <td>12</td>\n      <td>Sim</td>\n      <td>Sim</td>\n      <td>Fibra</td>\n      <td>Nao</td>\n      <td>...</td>\n      <td>Nao</td>\n      <td>Sim</td>\n      <td>Sim</td>\n      <td>Mensal</td>\n      <td>Sim</td>\n      <td>BoletoEletronico</td>\n      <td>99.45</td>\n      <td>1200.15</td>\n      <td>Sim</td>\n      <td>NaN</td>\n    </tr>\n    <tr>\n      <th>5985</th>\n      <td>4795-UXVCJ</td>\n      <td>Masculino</td>\n      <td>0</td>\n      <td>Nao</td>\n      <td>Nao</td>\n      <td>26</td>\n      <td>Sim</td>\n      <td>Nao</td>\n      <td>Nao</td>\n      <td>SemInternet</td>\n      <td>...</td>\n      <td>SemInternet</td>\n      <td>SemInternet</td>\n      <td>SemInternet</td>\n      <td>Anual</td>\n      <td>Nao</td>\n      <td>CartaoCredito</td>\n      <td>19.80</td>\n      <td>457.3</td>\n      <td>Nao</td>\n      <td>NaN</td>\n    </tr>\n  </tbody>\n</table>\n<p>5986 rows × 22 columns</p>\n</div>"
     },
     "metadata": {},
     "output_type": "display_data"
    }
   ]
  },
  {
   "cell_type": "code",
   "metadata": {
    "colab": {
     "base_uri": "https://localhost:8080/"
    },
    "id": "SqwAmVpIuNHB",
    "outputId": "8e2f1c96-90be-451f-8bf3-846b8075a1a3"
   },
   "source": [
    "# Passo 3: Tratamento da base de dados\n",
    "# Valores que são números mas que o Python acha que são texto\n",
    "tabela[\"TotalGasto\"] = pd.to_numeric(tabela[\"TotalGasto\"], errors=\"coerce\")\n",
    "\n",
    "# Valores que estão vazios\n",
    "# colunas vazias\n",
    "# any para excluir colunas que tem PELO MENOS 1 valor vazio\n",
    "# all para excluir colunas COMPLETAMENTE vazias\n",
    "tabela = tabela.dropna(how=\"all\", axis=1)\n",
    "\n",
    "# linhas vazias\n",
    "tabela = tabela.dropna(how=\"any\", axis=0)\n",
    "\n",
    "# note que a limpeza excluiu 12 registros\n",
    "print(tabela.info())"
   ],
   "execution_count": 6,
   "outputs": [
    {
     "name": "stdout",
     "output_type": "stream",
     "text": [
      "<class 'pandas.core.frame.DataFrame'>\n",
      "Int64Index: 5974 entries, 0 to 5985\n",
      "Data columns (total 21 columns):\n",
      " #   Column                  Non-Null Count  Dtype  \n",
      "---  ------                  --------------  -----  \n",
      " 0   IDCliente               5974 non-null   object \n",
      " 1   Genero                  5974 non-null   object \n",
      " 2   Aposentado              5974 non-null   int64  \n",
      " 3   Casado                  5974 non-null   object \n",
      " 4   Dependentes             5974 non-null   object \n",
      " 5   MesesComoCliente        5974 non-null   int64  \n",
      " 6   ServicoTelefone         5974 non-null   object \n",
      " 7   MultiplasLinhas         5974 non-null   object \n",
      " 8   ServicoInternet         5974 non-null   object \n",
      " 9   ServicoSegurancaOnline  5974 non-null   object \n",
      " 10  ServicoBackupOnline     5974 non-null   object \n",
      " 11  ProtecaoEquipamento     5974 non-null   object \n",
      " 12  ServicoSuporteTecnico   5974 non-null   object \n",
      " 13  ServicoStreamingTV      5974 non-null   object \n",
      " 14  ServicoFilmes           5974 non-null   object \n",
      " 15  TipoContrato            5974 non-null   object \n",
      " 16  FaturaDigital           5974 non-null   object \n",
      " 17  FormaPagamento          5974 non-null   object \n",
      " 18  ValorMensal             5974 non-null   float64\n",
      " 19  TotalGasto              5974 non-null   float64\n",
      " 20  Churn                   5974 non-null   object \n",
      "dtypes: float64(2), int64(2), object(17)\n",
      "memory usage: 1.0+ MB\n",
      "None\n"
     ]
    }
   ]
  },
  {
   "cell_type": "code",
   "metadata": {
    "colab": {
     "base_uri": "https://localhost:8080/",
     "height": 119
    },
    "id": "Ps0FUdNcuNHB",
    "outputId": "64614690-0b5f-4480-c44b-ddcfb205bb0d"
   },
   "source": [
    "# Passo 4: Análise Exploratória -> Análise Geral -> Ver como estão os cancelamentos\n",
    "\n",
    "display(tabela[\"Churn\"].value_counts())\n",
    "display(tabela[\"Churn\"].value_counts(normalize=True).map(\"{:.1%}\".format))\n",
    "tabela.to_csv(\"new_data.csv\")"
   ],
   "execution_count": 34,
   "outputs": [
    {
     "data": {
      "text/plain": "Nao    4387\nSim    1587\nName: Churn, dtype: int64"
     },
     "metadata": {},
     "output_type": "display_data"
    },
    {
     "data": {
      "text/plain": "Nao    73.4%\nSim    26.6%\nName: Churn, dtype: object"
     },
     "metadata": {},
     "output_type": "display_data"
    }
   ]
  },
  {
   "cell_type": "markdown",
   "metadata": {
    "id": "VbzoUTu8uNHC",
    "pycharm": {
     "name": "#%% md\n"
    }
   },
   "source": [
    "# Alterações\n",
    "\n",
    "* **Genero(Binario)**\n",
    "    * Masculino = 1\n",
    "    * Feminino = 0\n",
    "* **Aposentado(Binario)**\n",
    "    * Sim = 1\n",
    "    * Nao = 0\n",
    "* **Casado(Binario)**\n",
    "    * Sim = 1\n",
    "    * Nao = 0\n",
    "* **Dependentes(Binario)**\n",
    "    * Sim = 1\n",
    "    * Nao = 0\n",
    "* **MesesComoCliente(Inteiro)**\n",
    "* **ServicoTelefone(Binario)**\n",
    "    * Sim = 1\n",
    "    * Nao = 0\n",
    "* **MultiplasLinhas(Multi)**\n",
    "    * Sim = 1\n",
    "    * Nao = 0\n",
    "    * SemTelefone = 3\n",
    "* **ServicoInternet(Multi)**\n",
    "    * Nao = 0\n",
    "    * Fibra = 1\n",
    "    * DSL = 3\n",
    "* **ServicoSegurancaOnline(Multi)**\n",
    "    * Sim = 1\n",
    "    * Nao = 0\n",
    "    * SemInternet = 3\n",
    "* **ServicoBackupOnline(Multi)**\n",
    "    * Sim = 1\n",
    "    * Nao = 0\n",
    "    * SemInternet = 3\n",
    "* **ProtecaoEquipamento(Multi)**\n",
    "    * Sim = 1\n",
    "    * Nao = 0\n",
    "    * SemInternet = 3\n",
    "* **ServicoSuporteTecnico(Multi)**\n",
    "    * Sim = 1\n",
    "    * Nao = 0\n",
    "    * SemInternet = 3\n",
    "* **ServicoStreamingTV(Multi)**\n",
    "    * Sim = 1\n",
    "    * Nao = 0\n",
    "    * SemInternet = 3\n",
    "* **ServicoFilmes(Multi)**\n",
    "    * Sim = 1\n",
    "    * Nao = 0\n",
    "    * SemInternet = 3\n",
    "* **TipoContrato(Multi)**\n",
    "    * Mensal = 1\n",
    "    * 2 anos = 0\n",
    "    * Anual = 3\n",
    "* **FaturaDigital(Binario)**\n",
    "    * Sim = 1\n",
    "    * Nao = 0\n",
    "* **FormaPagamento(Multi)**\n",
    "    * BoletoEletronico = 0\n",
    "    * BoletoImpresso = 1\n",
    "    * DebitoAutomatico = 3\n",
    "    * CartaoCredito = 4\n",
    "* **ValorMensal(Real)** Done\n",
    "* **TotalGasto(Real)** Done\n"
   ]
  },
  {
   "cell_type": "code",
   "execution_count": 44,
   "outputs": [],
   "source": [
    "from typing import List\n",
    "\n",
    "\n",
    "def to_numeric(order: List, df_column: pd.Series):\n",
    "    dict_format = {name: i for i, name in enumerate(order)}\n",
    "    return df_column.map(dict_format)"
   ],
   "metadata": {
    "collapsed": false,
    "pycharm": {
     "name": "#%%\n"
    }
   }
  },
  {
   "cell_type": "code",
   "execution_count": 45,
   "outputs": [],
   "source": [
    "# Criando copia da tabela modificada pelo professor\n",
    "cpy_tabela = tabela.copy()\n",
    "# Normalizando os valores de cada column necessaria\n",
    "cpy_tabela[\"Genero\"] = to_numeric([\"Feminino\", \"Masculino\"], cpy_tabela[\"Genero\"])\n",
    "cpy_tabela[\"Casado\"] = to_numeric([\"Nao\", \"Sim\"], cpy_tabela[\"Casado\"])\n",
    "cpy_tabela[\"Dependentes\"] = to_numeric([\"Nao\", \"Sim\"], cpy_tabela[\"Dependentes\"])\n",
    "cpy_tabela[\"ServicoTelefone\"] = to_numeric([\"Nao\", \"Sim\"], cpy_tabela[\"ServicoTelefone\"])\n",
    "cpy_tabela[\"MultiplasLinhas\"] = to_numeric([\"Nao\", \"Sim\", \"SemTelefone\"], cpy_tabela[\"MultiplasLinhas\"])\n",
    "cpy_tabela[\"ServicoInternet\"] = to_numeric([\"Nao\", \"Fibra\", \"DSL\"], cpy_tabela[\"ServicoInternet\"])\n",
    "cpy_tabela[\"ServicoSegurancaOnline\"] = to_numeric([\"Nao\", \"Sim\", \"SemInternet\"], cpy_tabela[\"ServicoSegurancaOnline\"])\n",
    "cpy_tabela[\"ServicoBackupOnline\"] = to_numeric([\"Nao\", \"Sim\", \"SemInternet\"], cpy_tabela[\"ServicoBackupOnline\"])\n",
    "cpy_tabela[\"ProtecaoEquipamento\"] = to_numeric([\"Nao\", \"Sim\", \"SemInternet\"], cpy_tabela[\"ProtecaoEquipamento\"])\n",
    "cpy_tabela[\"ServicoSuporteTecnico\"] = to_numeric([\"Nao\", \"Sim\", \"SemInternet\"], cpy_tabela[\"ServicoSuporteTecnico\"])\n",
    "cpy_tabela[\"ServicoStreamingTV\"] = to_numeric([\"Nao\", \"Sim\", \"SemInternet\"], cpy_tabela[\"ServicoStreamingTV\"])\n",
    "cpy_tabela[\"ServicoFilmes\"] = to_numeric([\"Nao\", \"Sim\", \"SemInternet\"], cpy_tabela[\"ServicoFilmes\"])\n",
    "cpy_tabela[\"TipoContrato\"] = to_numeric([\"2 anos\", \"Mensal\", \"Anual\"], cpy_tabela[\"TipoContrato\"])\n",
    "cpy_tabela[\"FaturaDigital\"] = to_numeric([\"Nao\", \"Sim\"], cpy_tabela[\"FaturaDigital\"])\n",
    "cpy_tabela[\"FormaPagamento\"] = to_numeric([\"BoletoEletronico\", \"BoletoImpresso\", \"DebitoAutomatico\", \"CartaoCredito\"], cpy_tabela[\"FormaPagamento\"])\n",
    "cpy_tabela[\"Churn\"] = to_numeric([\"Nao\", \"Sim\"], cpy_tabela[\"Churn\"])"
   ],
   "metadata": {
    "collapsed": false,
    "pycharm": {
     "name": "#%%\n"
    }
   }
  },
  {
   "cell_type": "code",
   "execution_count": 46,
   "outputs": [
    {
     "data": {
      "text/plain": "       IDCliente  Genero  Aposentado  Casado  Dependentes  MesesComoCliente  \\\n0     7010-BRBUU       1           0       1            1                72   \n1     9688-YGXVR       0           0       0            0                44   \n2     9286-DOJGF       0           1       1            0                38   \n3     6994-KERXL       1           0       0            0                 4   \n4     2181-UAESM       1           0       0            0                 2   \n...          ...     ...         ...     ...          ...               ...   \n5981  0684-AOSIH       1           0       1            0                 1   \n5982  5982-PSMKW       0           0       1            1                23   \n5983  8044-BGWPI       1           0       1            1                12   \n5984  7450-NWRTR       1           1       0            0                12   \n5985  4795-UXVCJ       1           0       0            0                26   \n\n      ServicoTelefone  MultiplasLinhas  ServicoInternet  \\\n0                   1                1                0   \n1                   1                0                1   \n2                   1                1                1   \n3                   1                0                2   \n4                   1                0                2   \n...               ...              ...              ...   \n5981                1                0                1   \n5982                1                1                2   \n5983                1                0                0   \n5984                1                1                1   \n5985                1                0                0   \n\n      ServicoSegurancaOnline  ...  ProtecaoEquipamento  ServicoSuporteTecnico  \\\n0                          2  ...                    2                      2   \n1                          0  ...                    1                      0   \n2                          0  ...                    0                      0   \n3                          0  ...                    0                      0   \n4                          1  ...                    1                      0   \n...                      ...  ...                  ...                    ...   \n5981                       1  ...                    0                      0   \n5982                       1  ...                    1                      1   \n5983                       2  ...                    2                      2   \n5984                       0  ...                    1                      0   \n5985                       2  ...                    2                      2   \n\n      ServicoStreamingTV  ServicoFilmes  TipoContrato  FaturaDigital  \\\n0                      2              2             0              0   \n1                      1              0             1              1   \n2                      0              0             1              1   \n3                      0              1             1              1   \n4                      0              0             1              0   \n...                  ...            ...           ...            ...   \n5981                   1              1             1              1   \n5982                   1              1             0              1   \n5983                   2              2             1              1   \n5984                   1              1             1              1   \n5985                   2              2             2              0   \n\n      FormaPagamento  ValorMensal  TotalGasto  Churn  \n0                  3        24.10     1734.65      0  \n1                  3        88.15     3973.20      0  \n2                  2        74.95     2869.85      1  \n3                  0        55.90      238.50      0  \n4                  0        53.45      119.50      0  \n...              ...          ...         ...    ...  \n5981               0        95.00       95.00      1  \n5982               3        91.10     2198.30      0  \n5983               0        21.15      306.05      0  \n5984               0        99.45     1200.15      1  \n5985               3        19.80      457.30      0  \n\n[5974 rows x 21 columns]",
      "text/html": "<div>\n<style scoped>\n    .dataframe tbody tr th:only-of-type {\n        vertical-align: middle;\n    }\n\n    .dataframe tbody tr th {\n        vertical-align: top;\n    }\n\n    .dataframe thead th {\n        text-align: right;\n    }\n</style>\n<table border=\"1\" class=\"dataframe\">\n  <thead>\n    <tr style=\"text-align: right;\">\n      <th></th>\n      <th>IDCliente</th>\n      <th>Genero</th>\n      <th>Aposentado</th>\n      <th>Casado</th>\n      <th>Dependentes</th>\n      <th>MesesComoCliente</th>\n      <th>ServicoTelefone</th>\n      <th>MultiplasLinhas</th>\n      <th>ServicoInternet</th>\n      <th>ServicoSegurancaOnline</th>\n      <th>...</th>\n      <th>ProtecaoEquipamento</th>\n      <th>ServicoSuporteTecnico</th>\n      <th>ServicoStreamingTV</th>\n      <th>ServicoFilmes</th>\n      <th>TipoContrato</th>\n      <th>FaturaDigital</th>\n      <th>FormaPagamento</th>\n      <th>ValorMensal</th>\n      <th>TotalGasto</th>\n      <th>Churn</th>\n    </tr>\n  </thead>\n  <tbody>\n    <tr>\n      <th>0</th>\n      <td>7010-BRBUU</td>\n      <td>1</td>\n      <td>0</td>\n      <td>1</td>\n      <td>1</td>\n      <td>72</td>\n      <td>1</td>\n      <td>1</td>\n      <td>0</td>\n      <td>2</td>\n      <td>...</td>\n      <td>2</td>\n      <td>2</td>\n      <td>2</td>\n      <td>2</td>\n      <td>0</td>\n      <td>0</td>\n      <td>3</td>\n      <td>24.10</td>\n      <td>1734.65</td>\n      <td>0</td>\n    </tr>\n    <tr>\n      <th>1</th>\n      <td>9688-YGXVR</td>\n      <td>0</td>\n      <td>0</td>\n      <td>0</td>\n      <td>0</td>\n      <td>44</td>\n      <td>1</td>\n      <td>0</td>\n      <td>1</td>\n      <td>0</td>\n      <td>...</td>\n      <td>1</td>\n      <td>0</td>\n      <td>1</td>\n      <td>0</td>\n      <td>1</td>\n      <td>1</td>\n      <td>3</td>\n      <td>88.15</td>\n      <td>3973.20</td>\n      <td>0</td>\n    </tr>\n    <tr>\n      <th>2</th>\n      <td>9286-DOJGF</td>\n      <td>0</td>\n      <td>1</td>\n      <td>1</td>\n      <td>0</td>\n      <td>38</td>\n      <td>1</td>\n      <td>1</td>\n      <td>1</td>\n      <td>0</td>\n      <td>...</td>\n      <td>0</td>\n      <td>0</td>\n      <td>0</td>\n      <td>0</td>\n      <td>1</td>\n      <td>1</td>\n      <td>2</td>\n      <td>74.95</td>\n      <td>2869.85</td>\n      <td>1</td>\n    </tr>\n    <tr>\n      <th>3</th>\n      <td>6994-KERXL</td>\n      <td>1</td>\n      <td>0</td>\n      <td>0</td>\n      <td>0</td>\n      <td>4</td>\n      <td>1</td>\n      <td>0</td>\n      <td>2</td>\n      <td>0</td>\n      <td>...</td>\n      <td>0</td>\n      <td>0</td>\n      <td>0</td>\n      <td>1</td>\n      <td>1</td>\n      <td>1</td>\n      <td>0</td>\n      <td>55.90</td>\n      <td>238.50</td>\n      <td>0</td>\n    </tr>\n    <tr>\n      <th>4</th>\n      <td>2181-UAESM</td>\n      <td>1</td>\n      <td>0</td>\n      <td>0</td>\n      <td>0</td>\n      <td>2</td>\n      <td>1</td>\n      <td>0</td>\n      <td>2</td>\n      <td>1</td>\n      <td>...</td>\n      <td>1</td>\n      <td>0</td>\n      <td>0</td>\n      <td>0</td>\n      <td>1</td>\n      <td>0</td>\n      <td>0</td>\n      <td>53.45</td>\n      <td>119.50</td>\n      <td>0</td>\n    </tr>\n    <tr>\n      <th>...</th>\n      <td>...</td>\n      <td>...</td>\n      <td>...</td>\n      <td>...</td>\n      <td>...</td>\n      <td>...</td>\n      <td>...</td>\n      <td>...</td>\n      <td>...</td>\n      <td>...</td>\n      <td>...</td>\n      <td>...</td>\n      <td>...</td>\n      <td>...</td>\n      <td>...</td>\n      <td>...</td>\n      <td>...</td>\n      <td>...</td>\n      <td>...</td>\n      <td>...</td>\n      <td>...</td>\n    </tr>\n    <tr>\n      <th>5981</th>\n      <td>0684-AOSIH</td>\n      <td>1</td>\n      <td>0</td>\n      <td>1</td>\n      <td>0</td>\n      <td>1</td>\n      <td>1</td>\n      <td>0</td>\n      <td>1</td>\n      <td>1</td>\n      <td>...</td>\n      <td>0</td>\n      <td>0</td>\n      <td>1</td>\n      <td>1</td>\n      <td>1</td>\n      <td>1</td>\n      <td>0</td>\n      <td>95.00</td>\n      <td>95.00</td>\n      <td>1</td>\n    </tr>\n    <tr>\n      <th>5982</th>\n      <td>5982-PSMKW</td>\n      <td>0</td>\n      <td>0</td>\n      <td>1</td>\n      <td>1</td>\n      <td>23</td>\n      <td>1</td>\n      <td>1</td>\n      <td>2</td>\n      <td>1</td>\n      <td>...</td>\n      <td>1</td>\n      <td>1</td>\n      <td>1</td>\n      <td>1</td>\n      <td>0</td>\n      <td>1</td>\n      <td>3</td>\n      <td>91.10</td>\n      <td>2198.30</td>\n      <td>0</td>\n    </tr>\n    <tr>\n      <th>5983</th>\n      <td>8044-BGWPI</td>\n      <td>1</td>\n      <td>0</td>\n      <td>1</td>\n      <td>1</td>\n      <td>12</td>\n      <td>1</td>\n      <td>0</td>\n      <td>0</td>\n      <td>2</td>\n      <td>...</td>\n      <td>2</td>\n      <td>2</td>\n      <td>2</td>\n      <td>2</td>\n      <td>1</td>\n      <td>1</td>\n      <td>0</td>\n      <td>21.15</td>\n      <td>306.05</td>\n      <td>0</td>\n    </tr>\n    <tr>\n      <th>5984</th>\n      <td>7450-NWRTR</td>\n      <td>1</td>\n      <td>1</td>\n      <td>0</td>\n      <td>0</td>\n      <td>12</td>\n      <td>1</td>\n      <td>1</td>\n      <td>1</td>\n      <td>0</td>\n      <td>...</td>\n      <td>1</td>\n      <td>0</td>\n      <td>1</td>\n      <td>1</td>\n      <td>1</td>\n      <td>1</td>\n      <td>0</td>\n      <td>99.45</td>\n      <td>1200.15</td>\n      <td>1</td>\n    </tr>\n    <tr>\n      <th>5985</th>\n      <td>4795-UXVCJ</td>\n      <td>1</td>\n      <td>0</td>\n      <td>0</td>\n      <td>0</td>\n      <td>26</td>\n      <td>1</td>\n      <td>0</td>\n      <td>0</td>\n      <td>2</td>\n      <td>...</td>\n      <td>2</td>\n      <td>2</td>\n      <td>2</td>\n      <td>2</td>\n      <td>2</td>\n      <td>0</td>\n      <td>3</td>\n      <td>19.80</td>\n      <td>457.30</td>\n      <td>0</td>\n    </tr>\n  </tbody>\n</table>\n<p>5974 rows × 21 columns</p>\n</div>"
     },
     "execution_count": 46,
     "metadata": {},
     "output_type": "execute_result"
    }
   ],
   "source": [
    "cpy_tabela"
   ],
   "metadata": {
    "collapsed": false,
    "pycharm": {
     "name": "#%%\n"
    }
   }
  },
  {
   "cell_type": "code",
   "execution_count": 47,
   "outputs": [],
   "source": [
    "cpy_tabela.to_csv(\"clean_table.csv\")"
   ],
   "metadata": {
    "collapsed": false,
    "pycharm": {
     "name": "#%%\n"
    }
   }
  },
  {
   "cell_type": "code",
   "execution_count": null,
   "outputs": [],
   "source": [],
   "metadata": {
    "collapsed": false,
    "pycharm": {
     "name": "#%%\n"
    }
   }
  }
 ]
}